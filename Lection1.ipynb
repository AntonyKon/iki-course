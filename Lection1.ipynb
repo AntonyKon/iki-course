{
 "cells": [
  {
   "cell_type": "markdown",
   "metadata": {},
   "source": [
    "# Как это работает?\n",
    "В jupyter notebook можно писать код и писать к нему примечания. Например, кликнув два раза по этому полю можно его отредактировать - язык разметки здесь [markdown](https://github.com/adam-p/markdown-here/wiki/Markdown-Cheatsheet). Так же он поддерживает <abbr title=\"Я написал эту надпись через HTML тег\">встоенный HTML</abbr>.\n",
    "# А что с кодом?\n",
    "Блок ниже - это код на python. Чтобы его выполнить можно нажать ctrl + enter или shift + enter, во втором случае указатель автоматически переместится на следующий блок. Попробуйте:"
   ]
  },
  {
   "cell_type": "code",
   "execution_count": 1,
   "metadata": {},
   "outputs": [
    {
     "name": "stdout",
     "output_type": "stream",
     "text": [
      "Hello word!\n"
     ]
    }
   ],
   "source": [
    "print('Hello word!')"
   ]
  },
  {
   "cell_type": "code",
   "execution_count": null,
   "metadata": {},
   "outputs": [],
   "source": []
  }
 ],
 "metadata": {
  "kernelspec": {
   "display_name": "Python 3",
   "language": "python",
   "name": "python3"
  },
  "language_info": {
   "codemirror_mode": {
    "name": "ipython",
    "version": 3
   },
   "file_extension": ".py",
   "mimetype": "text/x-python",
   "name": "python",
   "nbconvert_exporter": "python",
   "pygments_lexer": "ipython3",
   "version": "3.6.6"
  }
 },
 "nbformat": 4,
 "nbformat_minor": 2
}
