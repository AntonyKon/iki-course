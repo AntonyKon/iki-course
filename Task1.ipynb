{
 "cells": [
  {
   "cell_type": "markdown",
   "metadata": {},
   "source": [
    "# Сет простых задач (10 баллов)\n",
    "\n",
    "* (2 балла) Создать 2-D массив из случайных float между 5 и 10 размера 3x3"
   ]
  },
  {
   "cell_type": "code",
   "execution_count": null,
   "metadata": {},
   "outputs": [],
   "source": [
    "# Ваш код здесь"
   ]
  },
  {
   "cell_type": "markdown",
   "metadata": {},
   "source": [
    "* (2 балла) Создать массив из [нормально распределенных величин](http://www.machinelearning.ru/wiki/index.php?title=%D0%9D%D0%BE%D1%80%D0%BC%D0%B0%D0%BB%D1%8C%D0%BD%D0%BE%D0%B5_%D1%80%D0%B0%D1%81%D0%BF%D1%80%D0%B5%D0%B4%D0%B5%D0%BB%D0%B5%D0%BD%D0%B8%D0%B5) размера 1000x1 со средним 5 и стандартным отклонением 1"
   ]
  },
  {
   "cell_type": "code",
   "execution_count": null,
   "metadata": {},
   "outputs": [],
   "source": [
    "# Ваш код здесь"
   ]
  },
  {
   "cell_type": "markdown",
   "metadata": {},
   "source": [
    "* (2 балла) Найти его среднее, [медиану](https://ru.wikipedia.org/wiki/%D0%9C%D0%B5%D0%B4%D0%B8%D0%B0%D0%BD%D0%B0_(%D1%81%D1%82%D0%B0%D1%82%D0%B8%D1%81%D1%82%D0%B8%D0%BA%D0%B0)) и стандартное отклонение используя только этот массив без представления об изначальном распределении величин"
   ]
  },
  {
   "cell_type": "code",
   "execution_count": null,
   "metadata": {},
   "outputs": [],
   "source": [
    "# Ваш код здесь"
   ]
  },
  {
   "cell_type": "markdown",
   "metadata": {},
   "source": [
    "* (2 балла) Отнормируйте массив так, чтобы все значения лежали между 0 и 1"
   ]
  },
  {
   "cell_type": "code",
   "execution_count": null,
   "metadata": {},
   "outputs": [],
   "source": [
    "# Ваш код здесь"
   ]
  },
  {
   "cell_type": "markdown",
   "metadata": {},
   "source": [
    "* (2 балла) В файле `data/nans.txt` есть файл с двумя столбцами: координаты и некая функция от этих координат. Кажется, некоторые из величин этой функций случайно оказались [NaN-ами](https://en.wikipedia.org/wiki/NaN)! Верните все на круги своя и постройте график этой функции без NaN-ов. (*Подсказка: не забудьте, что при* $f(x_0) = NaN$; *нас не интересует не только NaN, но и* $x_0$)\n",
    "\n",
    "(*Бонус квест: что это за функция?*)"
   ]
  },
  {
   "cell_type": "code",
   "execution_count": null,
   "metadata": {},
   "outputs": [],
   "source": [
    "# Ваш код здесь"
   ]
  },
  {
   "cell_type": "markdown",
   "metadata": {},
   "source": [
    "## Шаблон для лабораторной работы (15 баллов)\n",
    "В этом задании вам будет предложено обработать числа как будто бы вы работаете с реальными данными из лабораторной работы. \n",
    "\n",
    "В файле `data/lab.txt` находятся данные о росте количества попугаев в городе Барселона тысячах штук (второй столбец) от года (первый столбец). Ваша задача построить считать данные из файлы, построить **красивый** и **читаемый** график и провести прямую по МНК. В этом задании вам нужо будет использовать опыт полученный из лекций, а так же самим искать функции в документации и читать про них.\n",
    "### Подготовка данных (5 баллов)\n",
    "* (2 балла) Загрузите данные из файла lab.txt (*Функции которые могут быть полезны: [np.loadtxt](https://docs.scipy.org/doc/numpy-1.15.0/reference/generated/numpy.loadtxt.html#numpy.loadtxt)*)"
   ]
  },
  {
   "cell_type": "code",
   "execution_count": null,
   "metadata": {},
   "outputs": [],
   "source": [
    "import numpy as np\n",
    "\n",
    "# Ваш код здесь"
   ]
  },
  {
   "cell_type": "markdown",
   "metadata": {},
   "source": [
    "* (3 балла) Нарисуйте график, подпишите оси и график в соответсвии с описанием данных выше (и чтобы было красиво!!!)"
   ]
  },
  {
   "cell_type": "code",
   "execution_count": null,
   "metadata": {},
   "outputs": [],
   "source": [
    "import matplotlib.pyplot as plt\n",
    "\n",
    "# Ваш код здесь"
   ]
  },
  {
   "cell_type": "markdown",
   "metadata": {},
   "source": [
    "### Проведение прямой по МНК (10 баллов)\n",
    "Напоминаю, что при линейной зависимости $y = kx + b$ коэффициенты линейной регрессии выглядят так:\n",
    "$$\n",
    "k = \\frac{\\sum_{i=1}^{n}(x_i - \\overline{x})(y_i - \\overline{y})}{\\sum_{i=1}^{n}(x_i-\\overline{x})^2}\n",
    "$$\n",
    "$$\n",
    "b = \\overline{y} - k\\overline{x}\n",
    "$$\n",
    "\n",
    "* (8 баллов) Найдите коэффициенты прямой МНК согласено этой формуле"
   ]
  },
  {
   "cell_type": "code",
   "execution_count": null,
   "metadata": {},
   "outputs": [],
   "source": [
    "# Ваш код здесь \n",
    "\n",
    "# k = \n",
    "# b = "
   ]
  },
  {
   "cell_type": "markdown",
   "metadata": {},
   "source": [
    "- (Для любителей, 0 баллов) А теперь все то же самое, только полностью векторизовано (и с линалом):"
   ]
  },
  {
   "cell_type": "code",
   "execution_count": null,
   "metadata": {},
   "outputs": [],
   "source": [
    "# Ваш код"
   ]
  },
  {
   "cell_type": "markdown",
   "metadata": {},
   "source": [
    "* (2 балла) Нарисуйте на одном графике получившуюся прямую сплошной линией, а экспериментальные данные - точками"
   ]
  },
  {
   "cell_type": "code",
   "execution_count": null,
   "metadata": {},
   "outputs": [],
   "source": [
    "# Ваш код здесь "
   ]
  }
 ],
 "metadata": {
  "kernelspec": {
   "display_name": "Python 3",
   "language": "python",
   "name": "python3"
  },
  "language_info": {
   "codemirror_mode": {
    "name": "ipython",
    "version": 3
   },
   "file_extension": ".py",
   "mimetype": "text/x-python",
   "name": "python",
   "nbconvert_exporter": "python",
   "pygments_lexer": "ipython3",
   "version": "3.6.7"
  }
 },
 "nbformat": 4,
 "nbformat_minor": 2
}
